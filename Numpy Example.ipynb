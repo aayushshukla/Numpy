{
 "cells": [
  {
   "cell_type": "code",
   "execution_count": null,
   "id": "435a2314",
   "metadata": {},
   "outputs": [],
   "source": [
    "#homogenous ,index , order \n"
   ]
  },
  {
   "cell_type": "markdown",
   "id": "31315dff",
   "metadata": {},
   "source": [
    "# Array Creation\n"
   ]
  },
  {
   "cell_type": "code",
   "execution_count": 1,
   "id": "bf1e09fe",
   "metadata": {},
   "outputs": [],
   "source": [
    "import numpy as np"
   ]
  },
  {
   "cell_type": "code",
   "execution_count": 5,
   "id": "7af28f3c",
   "metadata": {},
   "outputs": [
    {
     "name": "stdout",
     "output_type": "stream",
     "text": [
      "[10 20 30 40]\n",
      "type of arr is : <class 'numpy.ndarray'>\n"
     ]
    }
   ],
   "source": [
    "arr=np.array([10,20,30,40])\n",
    "print(arr)\n",
    "print('type of arr is :',type(arr))"
   ]
  },
  {
   "cell_type": "code",
   "execution_count": 8,
   "id": "b0324f36",
   "metadata": {},
   "outputs": [
    {
     "name": "stdout",
     "output_type": "stream",
     "text": [
      "data type of array int32\n",
      "size  of  element of array  4 bytes\n"
     ]
    }
   ],
   "source": [
    "print('data type of array',arr.dtype)\n",
    "print('size  of  element of array ',arr.itemsize,'bytes')"
   ]
  },
  {
   "cell_type": "code",
   "execution_count": 10,
   "id": "ba8a655f",
   "metadata": {},
   "outputs": [
    {
     "name": "stdout",
     "output_type": "stream",
     "text": [
      "[10. 20. 30. 40.]\n",
      "type of arr is : <class 'numpy.ndarray'>\n",
      "data type of array float32\n",
      "size  of  element of array  4 bytes\n"
     ]
    }
   ],
   "source": [
    "arr=np.array([10,20,30,40],dtype=np.float32)\n",
    "print(arr)\n",
    "print('type of arr is :',type(arr))\n",
    "print('data type of array',arr.dtype)\n",
    "print('size  of  element of array ',arr.itemsize,'bytes')"
   ]
  },
  {
   "cell_type": "code",
   "execution_count": 19,
   "id": "246924c7",
   "metadata": {},
   "outputs": [
    {
     "name": "stdout",
     "output_type": "stream",
     "text": [
      "Array 2 is  [ 10  20 130  40]\n",
      "data type of array int32\n",
      "size  of  element of array  4 bytes\n"
     ]
    }
   ],
   "source": [
    "arr2=np.asarray((10,20,130,40),dtype=np.int32)\n",
    "print('Array 2 is ',arr2)\n",
    "print('data type of array',arr2.dtype)\n",
    "print('size  of  element of array ',arr2.itemsize,'bytes')"
   ]
  },
  {
   "cell_type": "code",
   "execution_count": 20,
   "id": "1a3dafae",
   "metadata": {},
   "outputs": [
    {
     "name": "stdout",
     "output_type": "stream",
     "text": [
      "array3 is  [10 20 30 40 50 60 70 80 90]\n"
     ]
    }
   ],
   "source": [
    "#arange will generate 1 dim array \n",
    "arr3=np.arange(10,100,10) # arange(start=0 , end ,step=1) end will be excluder\n",
    "print('array3 is ',arr3)"
   ]
  },
  {
   "cell_type": "code",
   "execution_count": 21,
   "id": "23d69d1c",
   "metadata": {},
   "outputs": [
    {
     "data": {
      "text/plain": [
       "array([0, 1, 2, 3, 4])"
      ]
     },
     "execution_count": 21,
     "metadata": {},
     "output_type": "execute_result"
    }
   ],
   "source": [
    "arr3=np.arange(5)\n",
    "arr3"
   ]
  },
  {
   "cell_type": "code",
   "execution_count": 23,
   "id": "df9e08dc",
   "metadata": {},
   "outputs": [
    {
     "name": "stdout",
     "output_type": "stream",
     "text": [
      "dimension of array is 1\n",
      "shape of array (5,)\n"
     ]
    }
   ],
   "source": [
    "print('dimension of array is',arr3.ndim)\n",
    "print('shape of array',arr3.shape)\n",
    "#by using shape attribute we can get shape of array in (no of rows, no of column,)"
   ]
  },
  {
   "cell_type": "code",
   "execution_count": 25,
   "id": "39de8464",
   "metadata": {},
   "outputs": [
    {
     "data": {
      "text/plain": [
       "array([0. , 0.5, 1. , 1.5, 2. ])"
      ]
     },
     "execution_count": 25,
     "metadata": {},
     "output_type": "execute_result"
    }
   ],
   "source": [
    "arr3/2"
   ]
  },
  {
   "cell_type": "code",
   "execution_count": 28,
   "id": "53e1d17a",
   "metadata": {},
   "outputs": [
    {
     "data": {
      "text/plain": [
       "array([[10, 20, 30],\n",
       "       [40, 50, 60],\n",
       "       [70, 80, 90]])"
      ]
     },
     "execution_count": 28,
     "metadata": {},
     "output_type": "execute_result"
    }
   ],
   "source": [
    "mat"
   ]
  },
  {
   "cell_type": "code",
   "execution_count": 27,
   "id": "e241d235",
   "metadata": {},
   "outputs": [
    {
     "name": "stdout",
     "output_type": "stream",
     "text": [
      "dimension of array is 2\n",
      "shape of array (3, 3)\n"
     ]
    }
   ],
   "source": [
    "print('dimension of array is',mat.ndim)\n",
    "print('shape of array',mat.shape)"
   ]
  },
  {
   "cell_type": "code",
   "execution_count": 29,
   "id": "9d7a0cb1",
   "metadata": {},
   "outputs": [
    {
     "data": {
      "text/plain": [
       "array([[10., 20., 30.],\n",
       "       [40., 50., 60.],\n",
       "       [70., 80., 90.]], dtype=float32)"
      ]
     },
     "execution_count": 29,
     "metadata": {},
     "output_type": "execute_result"
    }
   ],
   "source": [
    "mat=np.array([[10,20,30],[40,50,60],[70,80,90]],dtype=np.float32)\n",
    "mat"
   ]
  },
  {
   "cell_type": "code",
   "execution_count": 31,
   "id": "b905002b",
   "metadata": {},
   "outputs": [
    {
     "name": "stdout",
     "output_type": "stream",
     "text": [
      "Ones matrix is \n",
      " [[1 1 1 1]\n",
      " [1 1 1 1]\n",
      " [1 1 1 1]]\n"
     ]
    }
   ],
   "source": [
    "#ones matrix\n",
    "o=np.ones((3,4),dtype=np.int32)\n",
    "print('Ones matrix is \\n',o)"
   ]
  },
  {
   "cell_type": "code",
   "execution_count": 32,
   "id": "8eb6c7a8",
   "metadata": {},
   "outputs": [
    {
     "name": "stdout",
     "output_type": "stream",
     "text": [
      "Zero matrix \n",
      " [[0 0 0 0]\n",
      " [0 0 0 0]\n",
      " [0 0 0 0]\n",
      " [0 0 0 0]]\n"
     ]
    }
   ],
   "source": [
    "#zeros\n",
    "z=np.zeros((4,4),dtype=np.int32)\n",
    "print('Zero matrix \\n',z)"
   ]
  },
  {
   "cell_type": "code",
   "execution_count": 33,
   "id": "170a0d80",
   "metadata": {},
   "outputs": [
    {
     "name": "stdout",
     "output_type": "stream",
     "text": [
      "[[1. 0. 0.]\n",
      " [0. 1. 0.]\n",
      " [0. 0. 1.]]\n"
     ]
    }
   ],
   "source": [
    "#identical matrix\n",
    "i =np.eye(3)\n",
    "print(i)"
   ]
  },
  {
   "cell_type": "code",
   "execution_count": 36,
   "id": "018b3960",
   "metadata": {},
   "outputs": [
    {
     "name": "stdout",
     "output_type": "stream",
     "text": [
      "fill matrix is \n",
      " [[6 6 6]\n",
      " [6 6 6]\n",
      " [6 6 6]]\n"
     ]
    }
   ],
   "source": [
    "#full(shape,value,dtype)\n",
    "f=np.full((3,3),6)\n",
    "print('fill matrix is \\n',f)"
   ]
  },
  {
   "cell_type": "code",
   "execution_count": 37,
   "id": "e980f89b",
   "metadata": {},
   "outputs": [
    {
     "data": {
      "text/plain": [
       "array([[11, 11, 11, 11],\n",
       "       [11, 11, 11, 11],\n",
       "       [11, 11, 11, 11]])"
      ]
     },
     "execution_count": 37,
     "metadata": {},
     "output_type": "execute_result"
    }
   ],
   "source": [
    "o*11"
   ]
  },
  {
   "cell_type": "code",
   "execution_count": 40,
   "id": "9f23080d",
   "metadata": {},
   "outputs": [
    {
     "data": {
      "text/plain": [
       "array([[0.87335319, 0.24379516, 0.26689161],\n",
       "       [0.27645441, 0.78634146, 0.45888329],\n",
       "       [0.04153347, 0.68812536, 0.21579339]])"
      ]
     },
     "execution_count": 40,
     "metadata": {},
     "output_type": "execute_result"
    }
   ],
   "source": [
    "#random matrix random(shape)\n",
    "randm=np.random.random((3,3))\n",
    "randm"
   ]
  },
  {
   "cell_type": "code",
   "execution_count": 43,
   "id": "8db6f2f5",
   "metadata": {},
   "outputs": [
    {
     "data": {
      "text/plain": [
       "array([[19, 32, 42],\n",
       "       [32, 15, 32],\n",
       "       [37, 30, 38]])"
      ]
     },
     "execution_count": 43,
     "metadata": {},
     "output_type": "execute_result"
    }
   ],
   "source": [
    "# randint(start ,end ,shape )\n",
    "randi=np.random.randint(10,50,(3,3))\n",
    "randi"
   ]
  },
  {
   "cell_type": "markdown",
   "id": "7426fdd0",
   "metadata": {},
   "source": [
    "# Reshaping Array"
   ]
  },
  {
   "cell_type": "code",
   "execution_count": 48,
   "id": "2f629b2e",
   "metadata": {},
   "outputs": [
    {
     "name": "stdout",
     "output_type": "stream",
     "text": [
      "old array \n",
      " [10 20 30 40 50 60 70 80 90]\n",
      "new array \n",
      " [[10]\n",
      " [20]\n",
      " [30]\n",
      " [40]\n",
      " [50]\n",
      " [60]\n",
      " [70]\n",
      " [80]\n",
      " [90]]\n"
     ]
    }
   ],
   "source": [
    "arr=np.arange(10,100,10)\n",
    "#reshape(,arr,new shape) the number of elements should be same\n",
    "mat=np.reshape(arr,(9,1))\n",
    "print('old array \\n',arr)\n",
    "print('new array \\n',mat)"
   ]
  },
  {
   "cell_type": "code",
   "execution_count": 49,
   "id": "1f8d4841",
   "metadata": {},
   "outputs": [
    {
     "data": {
      "text/plain": [
       "array([10, 20, 30, 40, 50, 60, 70, 80, 90])"
      ]
     },
     "execution_count": 49,
     "metadata": {},
     "output_type": "execute_result"
    }
   ],
   "source": [
    "#reshape(arr,())\n",
    "arr"
   ]
  },
  {
   "cell_type": "code",
   "execution_count": 54,
   "id": "25be853c",
   "metadata": {},
   "outputs": [
    {
     "data": {
      "text/plain": [
       "array([[10],\n",
       "       [20],\n",
       "       [30],\n",
       "       [40],\n",
       "       [50],\n",
       "       [60],\n",
       "       [70],\n",
       "       [80],\n",
       "       [90]])"
      ]
     },
     "execution_count": 54,
     "metadata": {},
     "output_type": "execute_result"
    }
   ],
   "source": [
    "mat1=np.reshape(arr,(-1,1)) #iif index is -ve it will create as many as rows as no of elements\n",
    "mat1"
   ]
  },
  {
   "cell_type": "code",
   "execution_count": 53,
   "id": "81f822a7",
   "metadata": {},
   "outputs": [
    {
     "data": {
      "text/plain": [
       "array([[10, 20, 30, 40, 50, 60, 70, 80, 90]])"
      ]
     },
     "execution_count": 53,
     "metadata": {},
     "output_type": "execute_result"
    }
   ],
   "source": [
    "np.reshape(arr,(1,-1))\n"
   ]
  },
  {
   "cell_type": "code",
   "execution_count": 2,
   "id": "c4c5c06d",
   "metadata": {},
   "outputs": [
    {
     "data": {
      "text/plain": [
       "array([10, 20, 30, 40, 50, 60, 70, 80, 90])"
      ]
     },
     "execution_count": 2,
     "metadata": {},
     "output_type": "execute_result"
    }
   ],
   "source": [
    "#np.resize(arranme, new shape)\n",
    "arr=np.arange(10,100,10)\n",
    "arr"
   ]
  },
  {
   "cell_type": "code",
   "execution_count": 4,
   "id": "cb3d97ae",
   "metadata": {},
   "outputs": [
    {
     "name": "stdout",
     "output_type": "stream",
     "text": [
      "resized array is \n",
      " [[10 20 30 40 50 60]\n",
      " [70 80 90 10 20 30]\n",
      " [40 50 60 70 80 90]\n",
      " [10 20 30 40 50 60]\n",
      " [70 80 90 10 20 30]\n",
      " [40 50 60 70 80 90]]\n"
     ]
    }
   ],
   "source": [
    "resizearray=np.resize(arr,(6,6))\n",
    "print('resized array is \\n',resizearray)"
   ]
  },
  {
   "cell_type": "code",
   "execution_count": 6,
   "id": "16dd166f",
   "metadata": {},
   "outputs": [
    {
     "name": "stdout",
     "output_type": "stream",
     "text": [
      "Resized array is \n",
      " [[10 20]\n",
      " [30 40]]\n"
     ]
    }
   ],
   "source": [
    "resizearray1=np.resize(arr,(2,2))\n",
    "print('Resized array is \\n',resizearray1)"
   ]
  },
  {
   "cell_type": "code",
   "execution_count": 13,
   "id": "771e22c6",
   "metadata": {},
   "outputs": [
    {
     "name": "stdout",
     "output_type": "stream",
     "text": [
      "array is \n",
      " [[10 20 30]\n",
      " [40 50 60]\n",
      " [70 80 90]]\n"
     ]
    }
   ],
   "source": [
    "#shape display shape of data as well as it reshape data, it will modify original array\n",
    "arr.shape=(3,3)\n",
    "print('array is \\n',arr)\n"
   ]
  },
  {
   "cell_type": "code",
   "execution_count": 15,
   "id": "f40089b9",
   "metadata": {},
   "outputs": [
    {
     "name": "stdout",
     "output_type": "stream",
     "text": [
      "ARRAY in 1 dim is [10 20 30 40 50 60 70 80 90]\n"
     ]
    }
   ],
   "source": [
    "#ravel convert array in to 1dim\n",
    "ravelarray=arr.ravel()\n",
    "print('ARRAY in 1 dim is',ravelarray)"
   ]
  },
  {
   "cell_type": "code",
   "execution_count": 17,
   "id": "73cac0d3",
   "metadata": {},
   "outputs": [
    {
     "data": {
      "text/plain": [
       "1"
      ]
     },
     "execution_count": 17,
     "metadata": {},
     "output_type": "execute_result"
    }
   ],
   "source": [
    "ravelarray.ndim"
   ]
  },
  {
   "cell_type": "code",
   "execution_count": 18,
   "id": "7d22d121",
   "metadata": {},
   "outputs": [
    {
     "data": {
      "text/plain": [
       "array([[10, 20, 30],\n",
       "       [40, 50, 60],\n",
       "       [70, 80, 90]])"
      ]
     },
     "execution_count": 18,
     "metadata": {},
     "output_type": "execute_result"
    }
   ],
   "source": [
    "arr"
   ]
  },
  {
   "cell_type": "code",
   "execution_count": 21,
   "id": "a74dfdd7",
   "metadata": {},
   "outputs": [
    {
     "name": "stdout",
     "output_type": "stream",
     "text": [
      "transpose array \n",
      " [[10 40 70]\n",
      " [20 50 80]\n",
      " [30 60 90]]\n"
     ]
    }
   ],
   "source": [
    "#traspose()\n",
    "tarray=arr.transpose()\n",
    "print('transpose array \\n',tarray)"
   ]
  },
  {
   "cell_type": "code",
   "execution_count": 24,
   "id": "227b13ac",
   "metadata": {},
   "outputs": [
    {
     "name": "stdout",
     "output_type": "stream",
     "text": [
      "transpose array [[10 40 70]\n",
      " [20 50 80]\n",
      " [30 60 90]]\n"
     ]
    }
   ],
   "source": [
    "#T - it will trnapose matrix\n",
    "tarray1=arr.T\n",
    "print('transpose array',tarray1)"
   ]
  },
  {
   "cell_type": "code",
   "execution_count": 25,
   "id": "95d15273",
   "metadata": {},
   "outputs": [
    {
     "data": {
      "text/html": [
       "<div>\n",
       "<style scoped>\n",
       "    .dataframe tbody tr th:only-of-type {\n",
       "        vertical-align: middle;\n",
       "    }\n",
       "\n",
       "    .dataframe tbody tr th {\n",
       "        vertical-align: top;\n",
       "    }\n",
       "\n",
       "    .dataframe thead th {\n",
       "        text-align: right;\n",
       "    }\n",
       "</style>\n",
       "<table border=\"1\" class=\"dataframe\">\n",
       "  <thead>\n",
       "    <tr style=\"text-align: right;\">\n",
       "      <th></th>\n",
       "      <th>Loan_ID</th>\n",
       "      <th>Gender</th>\n",
       "      <th>Married</th>\n",
       "      <th>Dependents</th>\n",
       "      <th>Education</th>\n",
       "      <th>Self_Employed</th>\n",
       "      <th>ApplicantIncome</th>\n",
       "      <th>CoapplicantIncome</th>\n",
       "      <th>LoanAmount</th>\n",
       "      <th>Loan_Amount_Term</th>\n",
       "      <th>Credit_History</th>\n",
       "      <th>Property_Area</th>\n",
       "      <th>Loan_Status</th>\n",
       "    </tr>\n",
       "  </thead>\n",
       "  <tbody>\n",
       "    <tr>\n",
       "      <th>0</th>\n",
       "      <td>LP001002</td>\n",
       "      <td>Male</td>\n",
       "      <td>No</td>\n",
       "      <td>0</td>\n",
       "      <td>Graduate</td>\n",
       "      <td>No</td>\n",
       "      <td>5849</td>\n",
       "      <td>0.0</td>\n",
       "      <td>NaN</td>\n",
       "      <td>360.0</td>\n",
       "      <td>1.0</td>\n",
       "      <td>Urban</td>\n",
       "      <td>Y</td>\n",
       "    </tr>\n",
       "    <tr>\n",
       "      <th>1</th>\n",
       "      <td>LP001003</td>\n",
       "      <td>Male</td>\n",
       "      <td>Yes</td>\n",
       "      <td>1</td>\n",
       "      <td>Graduate</td>\n",
       "      <td>No</td>\n",
       "      <td>4583</td>\n",
       "      <td>1508.0</td>\n",
       "      <td>128.0</td>\n",
       "      <td>360.0</td>\n",
       "      <td>1.0</td>\n",
       "      <td>Rural</td>\n",
       "      <td>N</td>\n",
       "    </tr>\n",
       "    <tr>\n",
       "      <th>2</th>\n",
       "      <td>LP001005</td>\n",
       "      <td>Male</td>\n",
       "      <td>Yes</td>\n",
       "      <td>0</td>\n",
       "      <td>Graduate</td>\n",
       "      <td>Yes</td>\n",
       "      <td>3000</td>\n",
       "      <td>0.0</td>\n",
       "      <td>66.0</td>\n",
       "      <td>360.0</td>\n",
       "      <td>1.0</td>\n",
       "      <td>Urban</td>\n",
       "      <td>Y</td>\n",
       "    </tr>\n",
       "    <tr>\n",
       "      <th>3</th>\n",
       "      <td>LP001006</td>\n",
       "      <td>Male</td>\n",
       "      <td>Yes</td>\n",
       "      <td>0</td>\n",
       "      <td>Not Graduate</td>\n",
       "      <td>No</td>\n",
       "      <td>2583</td>\n",
       "      <td>2358.0</td>\n",
       "      <td>120.0</td>\n",
       "      <td>360.0</td>\n",
       "      <td>1.0</td>\n",
       "      <td>Urban</td>\n",
       "      <td>Y</td>\n",
       "    </tr>\n",
       "    <tr>\n",
       "      <th>4</th>\n",
       "      <td>LP001008</td>\n",
       "      <td>Male</td>\n",
       "      <td>No</td>\n",
       "      <td>0</td>\n",
       "      <td>Graduate</td>\n",
       "      <td>No</td>\n",
       "      <td>6000</td>\n",
       "      <td>0.0</td>\n",
       "      <td>141.0</td>\n",
       "      <td>360.0</td>\n",
       "      <td>1.0</td>\n",
       "      <td>Urban</td>\n",
       "      <td>Y</td>\n",
       "    </tr>\n",
       "    <tr>\n",
       "      <th>...</th>\n",
       "      <td>...</td>\n",
       "      <td>...</td>\n",
       "      <td>...</td>\n",
       "      <td>...</td>\n",
       "      <td>...</td>\n",
       "      <td>...</td>\n",
       "      <td>...</td>\n",
       "      <td>...</td>\n",
       "      <td>...</td>\n",
       "      <td>...</td>\n",
       "      <td>...</td>\n",
       "      <td>...</td>\n",
       "      <td>...</td>\n",
       "    </tr>\n",
       "    <tr>\n",
       "      <th>609</th>\n",
       "      <td>LP002978</td>\n",
       "      <td>Female</td>\n",
       "      <td>No</td>\n",
       "      <td>0</td>\n",
       "      <td>Graduate</td>\n",
       "      <td>No</td>\n",
       "      <td>2900</td>\n",
       "      <td>0.0</td>\n",
       "      <td>71.0</td>\n",
       "      <td>360.0</td>\n",
       "      <td>1.0</td>\n",
       "      <td>Rural</td>\n",
       "      <td>Y</td>\n",
       "    </tr>\n",
       "    <tr>\n",
       "      <th>610</th>\n",
       "      <td>LP002979</td>\n",
       "      <td>Male</td>\n",
       "      <td>Yes</td>\n",
       "      <td>3+</td>\n",
       "      <td>Graduate</td>\n",
       "      <td>No</td>\n",
       "      <td>4106</td>\n",
       "      <td>0.0</td>\n",
       "      <td>40.0</td>\n",
       "      <td>180.0</td>\n",
       "      <td>1.0</td>\n",
       "      <td>Rural</td>\n",
       "      <td>Y</td>\n",
       "    </tr>\n",
       "    <tr>\n",
       "      <th>611</th>\n",
       "      <td>LP002983</td>\n",
       "      <td>Male</td>\n",
       "      <td>Yes</td>\n",
       "      <td>1</td>\n",
       "      <td>Graduate</td>\n",
       "      <td>No</td>\n",
       "      <td>8072</td>\n",
       "      <td>240.0</td>\n",
       "      <td>253.0</td>\n",
       "      <td>360.0</td>\n",
       "      <td>1.0</td>\n",
       "      <td>Urban</td>\n",
       "      <td>Y</td>\n",
       "    </tr>\n",
       "    <tr>\n",
       "      <th>612</th>\n",
       "      <td>LP002984</td>\n",
       "      <td>Male</td>\n",
       "      <td>Yes</td>\n",
       "      <td>2</td>\n",
       "      <td>Graduate</td>\n",
       "      <td>No</td>\n",
       "      <td>7583</td>\n",
       "      <td>0.0</td>\n",
       "      <td>187.0</td>\n",
       "      <td>360.0</td>\n",
       "      <td>1.0</td>\n",
       "      <td>Urban</td>\n",
       "      <td>Y</td>\n",
       "    </tr>\n",
       "    <tr>\n",
       "      <th>613</th>\n",
       "      <td>LP002990</td>\n",
       "      <td>Female</td>\n",
       "      <td>No</td>\n",
       "      <td>0</td>\n",
       "      <td>Graduate</td>\n",
       "      <td>Yes</td>\n",
       "      <td>4583</td>\n",
       "      <td>0.0</td>\n",
       "      <td>133.0</td>\n",
       "      <td>360.0</td>\n",
       "      <td>0.0</td>\n",
       "      <td>Semiurban</td>\n",
       "      <td>N</td>\n",
       "    </tr>\n",
       "  </tbody>\n",
       "</table>\n",
       "<p>614 rows × 13 columns</p>\n",
       "</div>"
      ],
      "text/plain": [
       "      Loan_ID  Gender Married Dependents     Education Self_Employed  \\\n",
       "0    LP001002    Male      No          0      Graduate            No   \n",
       "1    LP001003    Male     Yes          1      Graduate            No   \n",
       "2    LP001005    Male     Yes          0      Graduate           Yes   \n",
       "3    LP001006    Male     Yes          0  Not Graduate            No   \n",
       "4    LP001008    Male      No          0      Graduate            No   \n",
       "..        ...     ...     ...        ...           ...           ...   \n",
       "609  LP002978  Female      No          0      Graduate            No   \n",
       "610  LP002979    Male     Yes         3+      Graduate            No   \n",
       "611  LP002983    Male     Yes          1      Graduate            No   \n",
       "612  LP002984    Male     Yes          2      Graduate            No   \n",
       "613  LP002990  Female      No          0      Graduate           Yes   \n",
       "\n",
       "     ApplicantIncome  CoapplicantIncome  LoanAmount  Loan_Amount_Term  \\\n",
       "0               5849                0.0         NaN             360.0   \n",
       "1               4583             1508.0       128.0             360.0   \n",
       "2               3000                0.0        66.0             360.0   \n",
       "3               2583             2358.0       120.0             360.0   \n",
       "4               6000                0.0       141.0             360.0   \n",
       "..               ...                ...         ...               ...   \n",
       "609             2900                0.0        71.0             360.0   \n",
       "610             4106                0.0        40.0             180.0   \n",
       "611             8072              240.0       253.0             360.0   \n",
       "612             7583                0.0       187.0             360.0   \n",
       "613             4583                0.0       133.0             360.0   \n",
       "\n",
       "     Credit_History Property_Area Loan_Status  \n",
       "0               1.0         Urban           Y  \n",
       "1               1.0         Rural           N  \n",
       "2               1.0         Urban           Y  \n",
       "3               1.0         Urban           Y  \n",
       "4               1.0         Urban           Y  \n",
       "..              ...           ...         ...  \n",
       "609             1.0         Rural           Y  \n",
       "610             1.0         Rural           Y  \n",
       "611             1.0         Urban           Y  \n",
       "612             1.0         Urban           Y  \n",
       "613             0.0     Semiurban           N  \n",
       "\n",
       "[614 rows x 13 columns]"
      ]
     },
     "execution_count": 25,
     "metadata": {},
     "output_type": "execute_result"
    }
   ],
   "source": [
    "import pandas as pd\n",
    "path='C:\\\\Users\\\\Aayush Shukla\\\\OneDrive\\\\Desktop\\\\dataset\\\\loan_data_set.csv'\n",
    "data=pd.read_csv(path)\n",
    "data\n"
   ]
  },
  {
   "cell_type": "code",
   "execution_count": 26,
   "id": "5ba37c68",
   "metadata": {},
   "outputs": [
    {
     "data": {
      "text/plain": [
       "(614, 13)"
      ]
     },
     "execution_count": 26,
     "metadata": {},
     "output_type": "execute_result"
    }
   ],
   "source": [
    "data.shape"
   ]
  },
  {
   "cell_type": "code",
   "execution_count": 28,
   "id": "371c4718",
   "metadata": {},
   "outputs": [
    {
     "data": {
      "text/plain": [
       "(614,)"
      ]
     },
     "execution_count": 28,
     "metadata": {},
     "output_type": "execute_result"
    }
   ],
   "source": [
    "incomearray=np.array(data['ApplicantIncome'])\n",
    "incomearray"
   ]
  },
  {
   "cell_type": "code",
   "execution_count": 29,
   "id": "234daaab",
   "metadata": {},
   "outputs": [
    {
     "name": "stdout",
     "output_type": "stream",
     "text": [
      "total income of employees 3317724\n"
     ]
    }
   ],
   "source": [
    "print('total income of employees',np.sum(incomearray))\n"
   ]
  },
  {
   "cell_type": "code",
   "execution_count": 30,
   "id": "6d3ffc8e",
   "metadata": {},
   "outputs": [
    {
     "data": {
      "text/plain": [
       "5403.459283387622"
      ]
     },
     "execution_count": 30,
     "metadata": {},
     "output_type": "execute_result"
    }
   ],
   "source": [
    "mean =np.sum(incomearray)/len(incomearray)\n",
    "mean"
   ]
  },
  {
   "cell_type": "code",
   "execution_count": 32,
   "id": "8d1fc884",
   "metadata": {},
   "outputs": [
    {
     "name": "stdout",
     "output_type": "stream",
     "text": [
      "Mean income is 5403.459283387622\n"
     ]
    }
   ],
   "source": [
    "print('Mean income is',np.mean(incomearray))"
   ]
  },
  {
   "cell_type": "code",
   "execution_count": 34,
   "id": "40e358ba",
   "metadata": {},
   "outputs": [
    {
     "name": "stdout",
     "output_type": "stream",
     "text": [
      "Median is 3812.5\n"
     ]
    }
   ],
   "source": [
    "print ('Median is',np.median(incomearray))"
   ]
  },
  {
   "cell_type": "code",
   "execution_count": 35,
   "id": "867c79ae",
   "metadata": {},
   "outputs": [
    {
     "data": {
      "text/plain": [
       "{'whiskers': [<matplotlib.lines.Line2D at 0x29f1a25f940>,\n",
       "  <matplotlib.lines.Line2D at 0x29f1a25fca0>],\n",
       " 'caps': [<matplotlib.lines.Line2D at 0x29f1c271040>,\n",
       "  <matplotlib.lines.Line2D at 0x29f1c2713a0>],\n",
       " 'boxes': [<matplotlib.lines.Line2D at 0x29f1a25f5e0>],\n",
       " 'medians': [<matplotlib.lines.Line2D at 0x29f1c271700>],\n",
       " 'fliers': [<matplotlib.lines.Line2D at 0x29f1c271a60>],\n",
       " 'means': []}"
      ]
     },
     "execution_count": 35,
     "metadata": {},
     "output_type": "execute_result"
    },
    {
     "data": {
      "image/png": "[encoded data removed]",
      "text/plain": [
       "<Figure size 432x288 with 1 Axes>"
      ]
     },
     "metadata": {
      "needs_background": "light"
     },
     "output_type": "display_data"
    }
   ],
   "source": [
    "import matplotlib.pyplot as plt\n",
    "plt.boxplot(incomearray)"
   ]
  },
  {
   "cell_type": "code",
   "execution_count": 37,
   "id": "6af8fb0d",
   "metadata": {},
   "outputs": [
    {
     "data": {
      "text/plain": [
       "array([[10, 20, 30],\n",
       "       [40, 50, 60],\n",
       "       [70, 80, 90]])"
      ]
     },
     "execution_count": 37,
     "metadata": {},
     "output_type": "execute_result"
    }
   ],
   "source": [
    "arr"
   ]
  },
  {
   "cell_type": "code",
   "execution_count": 38,
   "id": "38be48f4",
   "metadata": {},
   "outputs": [
    {
     "data": {
      "text/plain": [
       "array([ 10,  30,  60, 100, 150, 210, 280, 360, 450], dtype=int32)"
      ]
     },
     "execution_count": 38,
     "metadata": {},
     "output_type": "execute_result"
    }
   ],
   "source": [
    "np.cumsum(arr)"
   ]
  },
  {
   "cell_type": "code",
   "execution_count": 2,
   "id": "65eebe04",
   "metadata": {},
   "outputs": [
    {
     "data": {
      "text/plain": [
       "array([[1, 2, 3],\n",
       "       [4, 5, 6],\n",
       "       [7, 8, 9]])"
      ]
     },
     "execution_count": 2,
     "metadata": {},
     "output_type": "execute_result"
    }
   ],
   "source": [
    "mat=np.arange(1,10)\n",
    "mat=np.reshape(mat,(3,3))\n",
    "mat"
   ]
  },
  {
   "cell_type": "code",
   "execution_count": 9,
   "id": "0b18cd93",
   "metadata": {},
   "outputs": [
    {
     "name": "stdout",
     "output_type": "stream",
     "text": [
      "sum of element rowwise \n",
      " [ 6 15 24]\n",
      "sum of element columnwise \n",
      " [12 15 18]\n",
      "max value of element row wise is \n",
      " [3 6 9]\n",
      "max value of  column wise is \n",
      " [7 8 9]\n",
      "mean value  row wise [2. 5. 8.]\n",
      "mean value column wise is [4. 5. 6.]\n",
      "min value of element row wise is \n",
      " [1 4 7]\n",
      "min value of  column wise is \n",
      " [1 2 3]\n",
      "cummulative sum  of element row wise is \n",
      " [[ 1  3  6]\n",
      " [ 4  9 15]\n",
      " [ 7 15 24]]\n",
      "cummulative sume of  column wise is \n",
      " [[ 1  2  3]\n",
      " [ 5  7  9]\n",
      " [12 15 18]]\n"
     ]
    }
   ],
   "source": [
    "# axis =0  represent operation performed on column , axis =1 represent operation dome on rows \n",
    "print('sum of element rowwise \\n',np.sum(mat,axis=1))\n",
    "print('sum of element columnwise \\n',np.sum(mat,axis=0))\n",
    "print('max value of element row wise is \\n',np.max(mat,axis=1))\n",
    "print('max value of  column wise is \\n',np.max(mat,axis=0))\n",
    "print('mean value  row wise',np.mean(mat,axis=1))\n",
    "print('mean value column wise is',np.mean(mat,axis=0))\n",
    "print('min value of element row wise is \\n',np.min(mat,axis=1))\n",
    "print('min value of  column wise is \\n',np.min(mat,axis=0))\n",
    "print('cummulative sum  of element row wise is \\n',np.cumsum(mat,axis=1))\n",
    "print('cummulative sume of  column wise is \\n',np.cumsum(mat,axis=0))\n",
    "\n",
    "\n"
   ]
  },
  {
   "cell_type": "code",
   "execution_count": 11,
   "id": "e3580654",
   "metadata": {},
   "outputs": [],
   "source": [
    "mat1=np.full((3,3),5)\n",
    "mat2=np.full((3,3),2)\n"
   ]
  },
  {
   "cell_type": "code",
   "execution_count": 13,
   "id": "68167b16",
   "metadata": {},
   "outputs": [
    {
     "name": "stdout",
     "output_type": "stream",
     "text": [
      "sum of matrix is \n",
      " [[7 7 7]\n",
      " [7 7 7]\n",
      " [7 7 7]]\n",
      "sub of matrix is \n",
      " [[3 3 3]\n",
      " [3 3 3]\n",
      " [3 3 3]]\n",
      "mul of matrix is \n",
      " [[10 10 10]\n",
      " [10 10 10]\n",
      " [10 10 10]]\n",
      "div of matrix is \n",
      " [[2.5 2.5 2.5]\n",
      " [2.5 2.5 2.5]\n",
      " [2.5 2.5 2.5]]\n"
     ]
    }
   ],
   "source": [
    "print('sum of matrix is \\n',(mat1+mat2))\n",
    "print('sub of matrix is \\n',(mat1-mat2))\n",
    "print('mul of matrix is \\n',(mat1*mat2))\n",
    "print('div of matrix is \\n',(mat1/mat2))"
   ]
  },
  {
   "cell_type": "code",
   "execution_count": 20,
   "id": "c3728199",
   "metadata": {},
   "outputs": [
    {
     "name": "stdout",
     "output_type": "stream",
     "text": [
      "log of matrix \n",
      "  [[1.60943791 1.60943791 1.60943791]\n",
      " [1.60943791 1.60943791 1.60943791]\n",
      " [1.60943791 1.60943791 1.60943791]]\n",
      "exponetial of matrix  row wise \n",
      "  [[148.4131591 148.4131591 148.4131591]\n",
      " [148.4131591 148.4131591 148.4131591]\n",
      " [148.4131591 148.4131591 148.4131591]]\n",
      "dot product of matrix \n",
      " [[30 30 30]\n",
      " [30 30 30]\n",
      " [30 30 30]]\n"
     ]
    }
   ],
   "source": [
    "print('log of matrix \\n ',np.log(mat1))\n",
    "print('exponetial of matrix  row wise \\n ',np.exp(mat1))\n",
    "print('dot product of matrix \\n',mat1.dot(mat2))"
   ]
  },
  {
   "cell_type": "code",
   "execution_count": 28,
   "id": "44ecd2fd",
   "metadata": {},
   "outputs": [
    {
     "name": "stdout",
     "output_type": "stream",
     "text": [
      "Sin values are \n",
      " [ 0.          0.89399666  0.85090352 -0.98803162 -0.30481062]\n",
      "Cos value in radians  is \n",
      " [ 1.         -0.44807362  0.52532199  0.15425145 -0.95241298]\n"
     ]
    }
   ],
   "source": [
    "arr3=np.array([0,90,45,30,60])\n",
    "\n",
    "svalue=np.sin(arr3)\n",
    "cvalue=np.cos(arr3)\n",
    "print('Sin values are \\n',svalue)\n",
    "print('Cos value in radians  is \\n',cvalue)"
   ]
  },
  {
   "cell_type": "code",
   "execution_count": 30,
   "id": "bb27b6d6",
   "metadata": {},
   "outputs": [
    {
     "data": {
      "text/plain": [
       "array([0.73105858, 1.        , 1.        , 0.5       , 0.99908895])"
      ]
     },
     "execution_count": 30,
     "metadata": {},
     "output_type": "execute_result"
    }
   ],
   "source": [
    "def sigmoid(x):\n",
    "    y= 1/(1+np.exp(-x))\n",
    "    return y\n",
    "sigmoid(np.array([1,100,50,0,7]))\n"
   ]
  },
  {
   "cell_type": "markdown",
   "id": "bf64e13b",
   "metadata": {},
   "source": [
    "# Array  Operation"
   ]
  },
  {
   "cell_type": "code",
   "execution_count": 15,
   "id": "439602b7",
   "metadata": {},
   "outputs": [],
   "source": [
    "mat1=np.full((3,3),10)\n",
    "mat2=np.full((3,3),7)\n"
   ]
  },
  {
   "cell_type": "code",
   "execution_count": 16,
   "id": "53038aef",
   "metadata": {},
   "outputs": [
    {
     "name": "stdout",
     "output_type": "stream",
     "text": [
      "Appended array when axis is none \n",
      " [10 10 10 10 10 10 10 10 10  7  7  7  7  7  7  7  7  7]\n"
     ]
    }
   ],
   "source": [
    "#append(mat1,mat2,axis=none) it will append arr2 at end of arra1 if no axis is give.It will append by\n",
    "# converting it into 1 dim  .If axis is given than it will append according to given axis\n",
    "appendmat=np.append(mat1,mat2)\n",
    "print('Appended array when axis is none \\n',appendmat)\n"
   ]
  },
  {
   "cell_type": "code",
   "execution_count": 17,
   "id": "f44635b5",
   "metadata": {},
   "outputs": [
    {
     "name": "stdout",
     "output_type": "stream",
     "text": [
      "Appending axis 1 row \n",
      " [[10 10 10  7  7  7]\n",
      " [10 10 10  7  7  7]\n",
      " [10 10 10  7  7  7]]\n"
     ]
    }
   ],
   "source": [
    "rappend=np.append(mat1,mat2,axis=1)\n",
    "print('Appending axis 1 row \\n',rappend)"
   ]
  },
  {
   "cell_type": "code",
   "execution_count": 18,
   "id": "80c674b6",
   "metadata": {},
   "outputs": [
    {
     "name": "stdout",
     "output_type": "stream",
     "text": [
      "Appending axis 0 columnwise\n",
      " [[10 10 10]\n",
      " [10 10 10]\n",
      " [10 10 10]\n",
      " [ 7  7  7]\n",
      " [ 7  7  7]\n",
      " [ 7  7  7]]\n"
     ]
    }
   ],
   "source": [
    "cappend =np.append(mat1,mat2,axis=0)\n",
    "print('Appending axis 0 columnwise\\n',cappend)"
   ]
  },
  {
   "cell_type": "code",
   "execution_count": 23,
   "id": "bf2274ac",
   "metadata": {},
   "outputs": [
    {
     "name": "stdout",
     "output_type": "stream",
     "text": [
      "Inserting 1dim array at index 2 of mat1 \n",
      " [10 10 30 50 70 90 10 10 10 10 10 10 10]\n"
     ]
    }
   ],
   "source": [
    "#insert(array,index,value,axis=None) insert values at given index in array,array and value should same\n",
    "#dimension or 1 dimension \n",
    "arr1=np.arange(30,100,20)\n",
    "iarray=np.insert(mat1,2,arr1)\n",
    "print('Inserting 1dim array at index 2 of mat1 \\n',iarray)\n"
   ]
  },
  {
   "cell_type": "code",
   "execution_count": 25,
   "id": "82763900",
   "metadata": {},
   "outputs": [
    {
     "data": {
      "text/plain": [
       "array([[10, 10, 10],\n",
       "       [10, 10, 10],\n",
       "       [10, 10, 10]])"
      ]
     },
     "execution_count": 25,
     "metadata": {},
     "output_type": "execute_result"
    }
   ],
   "source": [
    "mat1"
   ]
  },
  {
   "cell_type": "code",
   "execution_count": 24,
   "id": "5e7b6761",
   "metadata": {},
   "outputs": [
    {
     "name": "stdout",
     "output_type": "stream",
     "text": [
      "Inserting mat2 at index 1 of row \n",
      " [[10  7  7  7 10 10]\n",
      " [10  7  7  7 10 10]\n",
      " [10  7  7  7 10 10]]\n"
     ]
    }
   ],
   "source": [
    "rimat=np.insert(mat1,1,mat2,axis=1)\n",
    "print('Inserting mat2 at index 1 of row \\n',rimat)"
   ]
  },
  {
   "cell_type": "code",
   "execution_count": 26,
   "id": "d3d5c949",
   "metadata": {},
   "outputs": [
    {
     "name": "stdout",
     "output_type": "stream",
     "text": [
      "Inserting mat2 in mat1 at axis=0 columnwise \n",
      " [[10 10 10]\n",
      " [ 7  7  7]\n",
      " [ 7  7  7]\n",
      " [ 7  7  7]\n",
      " [10 10 10]\n",
      " [10 10 10]]\n"
     ]
    }
   ],
   "source": [
    "cimat=np.insert(mat1,1,mat2,axis=0)\n",
    "print('Inserting mat2 in mat1 at axis=0 columnwise \\n',cimat)"
   ]
  },
  {
   "cell_type": "code",
   "execution_count": 28,
   "id": "8535aecb",
   "metadata": {},
   "outputs": [
    {
     "name": "stdout",
     "output_type": "stream",
     "text": [
      "Deleting index 1 of array \n",
      " [[10 10]\n",
      " [10 10]\n",
      " [10 10]]\n"
     ]
    }
   ],
   "source": [
    "#np.delete(arr.index,axis=none) return sub array after deletion .It will remove value from given index\n",
    "# alone given axis and if axis is not menmtion it will treat as  1 dim array\n",
    "ridelete =np.delete(mat1,1,axis=1)\n",
    "print('Deleting index 1 of row of array \\n',ridelete)"
   ]
  },
  {
   "cell_type": "code",
   "execution_count": 31,
   "id": "3c19da4a",
   "metadata": {},
   "outputs": [
    {
     "name": "stdout",
     "output_type": "stream",
     "text": [
      "Deleting index 1 of column of array \n",
      " [[10 10 10]\n",
      " [10 10 10]]\n"
     ]
    }
   ],
   "source": [
    "cidelete =np.delete(mat1,1,axis=0)\n",
    "print('Deleting index 1 of column of array \\n',cidelete)"
   ]
  },
  {
   "cell_type": "code",
   "execution_count": 33,
   "id": "6b40b510",
   "metadata": {},
   "outputs": [
    {
     "data": {
      "text/plain": [
       "array([[10, 10, 10],\n",
       "       [10, 10, 10],\n",
       "       [10, 10, 10]])"
      ]
     },
     "execution_count": 33,
     "metadata": {},
     "output_type": "execute_result"
    }
   ],
   "source": [
    "mat1"
   ]
  },
  {
   "cell_type": "code",
   "execution_count": 36,
   "id": "bc5faec8",
   "metadata": {},
   "outputs": [
    {
     "name": "stdout",
     "output_type": "stream",
     "text": [
      "Vertically stacking \n",
      " [[10 10 10]\n",
      " [10 10 10]\n",
      " [10 10 10]\n",
      " [ 7  7  7]\n",
      " [ 7  7  7]\n",
      " [ 7  7  7]]\n"
     ]
    }
   ],
   "source": [
    "#vertical stack\n",
    "vmat=np.vstack((mat1,mat2))\n",
    "print('Vertically stacking  mat1 over mat 2 \\n',vmat)"
   ]
  },
  {
   "cell_type": "code",
   "execution_count": 38,
   "id": "733ddb1e",
   "metadata": {},
   "outputs": [
    {
     "name": "stdout",
     "output_type": "stream",
     "text": [
      "Horizontally stacking mat1 on mat2 \n",
      " [[10 10 10  7  7  7]\n",
      " [10 10 10  7  7  7]\n",
      " [10 10 10  7  7  7]]\n"
     ]
    }
   ],
   "source": [
    "#horizontal stack\n",
    "hmat=np.hstack((mat1,mat2))\n",
    "print('Horizontally stacking mat1 on mat2 \\n',hmat)"
   ]
  },
  {
   "cell_type": "code",
   "execution_count": 40,
   "id": "e6624bbd",
   "metadata": {},
   "outputs": [
    {
     "data": {
      "text/plain": [
       "array([[10, 10, 10],\n",
       "       [10, 10, 10],\n",
       "       [10, 10, 10],\n",
       "       [ 7,  7,  7],\n",
       "       [ 7,  7,  7],\n",
       "       [ 7,  7,  7]])"
      ]
     },
     "execution_count": 40,
     "metadata": {},
     "output_type": "execute_result"
    }
   ],
   "source": [
    "v=np.r_[mat1,mat2]\n",
    "v"
   ]
  },
  {
   "cell_type": "code",
   "execution_count": 42,
   "id": "7da61cde",
   "metadata": {},
   "outputs": [
    {
     "data": {
      "text/plain": [
       "array([[10, 10, 10,  7,  7,  7],\n",
       "       [10, 10, 10,  7,  7,  7],\n",
       "       [10, 10, 10,  7,  7,  7]])"
      ]
     },
     "execution_count": 42,
     "metadata": {},
     "output_type": "execute_result"
    }
   ],
   "source": [
    "v1=np.c_[mat1,mat2]\n",
    "v1"
   ]
  },
  {
   "cell_type": "markdown",
   "id": "4d081496",
   "metadata": {},
   "source": [
    "# Array Slicing"
   ]
  },
  {
   "cell_type": "code",
   "execution_count": 44,
   "id": "26a51e05",
   "metadata": {},
   "outputs": [
    {
     "data": {
      "text/plain": [
       "array([[10, 20, 30],\n",
       "       [40, 50, 60],\n",
       "       [70, 80, 90]])"
      ]
     },
     "execution_count": 44,
     "metadata": {},
     "output_type": "execute_result"
    }
   ],
   "source": [
    "mat=np.arange(10,100,10)\n",
    "mat=np.reshape(mat,(3,3))\n",
    "mat"
   ]
  },
  {
   "cell_type": "code",
   "execution_count": 45,
   "id": "e0cc58a7",
   "metadata": {},
   "outputs": [
    {
     "data": {
      "text/plain": [
       "array([[40, 50, 60]])"
      ]
     },
     "execution_count": 45,
     "metadata": {},
     "output_type": "execute_result"
    }
   ],
   "source": [
    "mat[1:2 , : ]"
   ]
  },
  {
   "cell_type": "code",
   "execution_count": 46,
   "id": "2d498c17",
   "metadata": {},
   "outputs": [
    {
     "data": {
      "text/plain": [
       "array([[40, 50],\n",
       "       [70, 80]])"
      ]
     },
     "execution_count": 46,
     "metadata": {},
     "output_type": "execute_result"
    }
   ],
   "source": [
    "mat[1: ,0:2]"
   ]
  },
  {
   "cell_type": "code",
   "execution_count": 47,
   "id": "bd4c792b",
   "metadata": {},
   "outputs": [
    {
     "data": {
      "text/plain": [
       "array([[20],\n",
       "       [50],\n",
       "       [80]])"
      ]
     },
     "execution_count": 47,
     "metadata": {},
     "output_type": "execute_result"
    }
   ],
   "source": [
    "mat[: ,1:2]"
   ]
  },
  {
   "cell_type": "code",
   "execution_count": 48,
   "id": "20f05c27",
   "metadata": {},
   "outputs": [
    {
     "data": {
      "text/plain": [
       "array([[20, 30],\n",
       "       [50, 60]])"
      ]
     },
     "execution_count": 48,
     "metadata": {},
     "output_type": "execute_result"
    }
   ],
   "source": [
    "mat[0:2,1: ]"
   ]
  },
  {
   "cell_type": "code",
   "execution_count": 49,
   "id": "194c2731",
   "metadata": {},
   "outputs": [
    {
     "data": {
      "text/plain": [
       "array([[10, 30],\n",
       "       [40, 60],\n",
       "       [70, 90]])"
      ]
     },
     "execution_count": 49,
     "metadata": {},
     "output_type": "execute_result"
    }
   ],
   "source": [
    "mat[0: ,0: :2]"
   ]
  },
  {
   "cell_type": "code",
   "execution_count": 50,
   "id": "087979f6",
   "metadata": {},
   "outputs": [
    {
     "data": {
      "text/plain": [
       "array([[10, 20, 30],\n",
       "       [70, 80, 90]])"
      ]
     },
     "execution_count": 50,
     "metadata": {},
     "output_type": "execute_result"
    }
   ],
   "source": [
    "mat[0: :2 , :]"
   ]
  },
  {
   "cell_type": "code",
   "execution_count": 51,
   "id": "0615a755",
   "metadata": {},
   "outputs": [
    {
     "data": {
      "text/plain": [
       "array([[10, 30],\n",
       "       [70, 90]])"
      ]
     },
     "execution_count": 51,
     "metadata": {},
     "output_type": "execute_result"
    }
   ],
   "source": [
    "mat[0::2,0::2]"
   ]
  },
  {
   "cell_type": "code",
   "execution_count": 52,
   "id": "be37e2bb",
   "metadata": {},
   "outputs": [
    {
     "data": {
      "text/plain": [
       "array([[70, 80, 90],\n",
       "       [10, 20, 30]])"
      ]
     },
     "execution_count": 52,
     "metadata": {},
     "output_type": "execute_result"
    }
   ],
   "source": [
    "mat[2: : -2, :] #if row steps are negative it will move bottom to top"
   ]
  },
  {
   "cell_type": "code",
   "execution_count": 53,
   "id": "085966f1",
   "metadata": {},
   "outputs": [
    {
     "data": {
      "text/plain": [
       "array([[30, 10],\n",
       "       [60, 40],\n",
       "       [90, 70]])"
      ]
     },
     "execution_count": 53,
     "metadata": {},
     "output_type": "execute_result"
    }
   ],
   "source": [
    "mat[: ,2: :-2]# if column step are negative it will  move rightto left "
   ]
  },
  {
   "cell_type": "markdown",
   "id": "39a2e3b5",
   "metadata": {},
   "source": [
    "# Fancy Indexing"
   ]
  },
  {
   "cell_type": "code",
   "execution_count": 4,
   "id": "d40d905e",
   "metadata": {},
   "outputs": [
    {
     "data": {
      "text/plain": [
       "array([[1, 2, 3],\n",
       "       [4, 5, 6],\n",
       "       [7, 8, 9]])"
      ]
     },
     "execution_count": 4,
     "metadata": {},
     "output_type": "execute_result"
    }
   ],
   "source": [
    "arr=np.arange(1,10)\n",
    "arr.shape=(3,3)\n",
    "arr"
   ]
  },
  {
   "cell_type": "code",
   "execution_count": 5,
   "id": "c145e4ec",
   "metadata": {},
   "outputs": [
    {
     "data": {
      "text/plain": [
       "array([2, 4, 8, 6])"
      ]
     },
     "execution_count": 5,
     "metadata": {},
     "output_type": "execute_result"
    }
   ],
   "source": [
    "#arrayname[[row index],[columnindex]]\n",
    "arr[[0,1,2,1],[1,0,1,2]]"
   ]
  },
  {
   "cell_type": "code",
   "execution_count": 6,
   "id": "37f2907d",
   "metadata": {},
   "outputs": [
    {
     "data": {
      "text/plain": [
       "array([1, 5, 7, 9, 3])"
      ]
     },
     "execution_count": 6,
     "metadata": {},
     "output_type": "execute_result"
    }
   ],
   "source": [
    "arr[[0,1,2,2,0],[0,1,0,2,2]]"
   ]
  },
  {
   "cell_type": "markdown",
   "id": "7e87c413",
   "metadata": {},
   "source": [
    "# Boolean Indexing"
   ]
  },
  {
   "cell_type": "code",
   "execution_count": 7,
   "id": "cb49304b",
   "metadata": {},
   "outputs": [
    {
     "data": {
      "text/plain": [
       "array([6, 7, 8, 9])"
      ]
     },
     "execution_count": 7,
     "metadata": {},
     "output_type": "execute_result"
    }
   ],
   "source": [
    "#array[condition]\n",
    "arr[arr>5]"
   ]
  },
  {
   "cell_type": "code",
   "execution_count": 8,
   "id": "f2016f2b",
   "metadata": {},
   "outputs": [
    {
     "data": {
      "text/plain": [
       "array([3, 6, 9])"
      ]
     },
     "execution_count": 8,
     "metadata": {},
     "output_type": "execute_result"
    }
   ],
   "source": [
    "arr[arr%3==0]"
   ]
  },
  {
   "cell_type": "code",
   "execution_count": 9,
   "id": "ece084ce",
   "metadata": {},
   "outputs": [
    {
     "data": {
      "text/plain": [
       "array([2])"
      ]
     },
     "execution_count": 9,
     "metadata": {},
     "output_type": "execute_result"
    }
   ],
   "source": [
    "arr[arr==2]"
   ]
  },
  {
   "cell_type": "markdown",
   "id": "7a0daa5a",
   "metadata": {},
   "source": [
    "# Transform   Data In Given Limit"
   ]
  },
  {
   "cell_type": "code",
   "execution_count": 12,
   "id": "7e18a74c",
   "metadata": {},
   "outputs": [
    {
     "data": {
      "text/plain": [
       "array([[0, 0, 0],\n",
       "       [0, 0, 1],\n",
       "       [1, 1, 1]])"
      ]
     },
     "execution_count": 12,
     "metadata": {},
     "output_type": "execute_result"
    }
   ],
   "source": [
    "#np.clip(array,minvalue ,maxvalue) transform array in given limit\n",
    "arr=np.arange(-4,5)\n",
    "arr.shape=(3,3)\n",
    "np.clip(arr,0,1)"
   ]
  }
 ],
 "metadata": {
  "kernelspec": {
   "display_name": "Python 3",
   "language": "python",
   "name": "python3"
  },
  "language_info": {
   "codemirror_mode": {
    "name": "ipython",
    "version": 3
   },
   "file_extension": ".py",
   "mimetype": "text/x-python",
   "name": "python",
   "nbconvert_exporter": "python",
   "pygments_lexer": "ipython3",
   "version": "3.8.8"
  }
 },
 "nbformat": 4,
 "nbformat_minor": 5
}
